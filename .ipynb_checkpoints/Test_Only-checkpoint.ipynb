{
 "cells": [
  {
   "cell_type": "code",
   "execution_count": 1,
   "id": "3f300d03-4ad3-4fc2-b80a-586d7b7a8d68",
   "metadata": {},
   "outputs": [
    {
     "data": {
      "text/plain": [
       "2"
      ]
     },
     "execution_count": 1,
     "metadata": {},
     "output_type": "execute_result"
    }
   ],
   "source": [
    "1+1"
   ]
  },
  {
   "cell_type": "code",
   "execution_count": 2,
   "id": "b3502e64-a52e-4a8c-b1d1-e3fda71849de",
   "metadata": {},
   "outputs": [
    {
     "data": {
      "text/plain": [
       "'Testing purpose'"
      ]
     },
     "execution_count": 2,
     "metadata": {},
     "output_type": "execute_result"
    }
   ],
   "source": [
    "\"Testing purpose\""
   ]
  },
  {
   "cell_type": "code",
   "execution_count": null,
   "id": "2588c9c0-388b-4d3c-9135-ca5eab9a6acc",
   "metadata": {},
   "outputs": [],
   "source": []
  }
 ],
 "metadata": {
  "kernelspec": {
   "display_name": "Python 3 (ipykernel)",
   "language": "python",
   "name": "python3"
  },
  "language_info": {
   "codemirror_mode": {
    "name": "ipython",
    "version": 3
   },
   "file_extension": ".py",
   "mimetype": "text/x-python",
   "name": "python",
   "nbconvert_exporter": "python",
   "pygments_lexer": "ipython3",
   "version": "3.11.7"
  }
 },
 "nbformat": 4,
 "nbformat_minor": 5
}
